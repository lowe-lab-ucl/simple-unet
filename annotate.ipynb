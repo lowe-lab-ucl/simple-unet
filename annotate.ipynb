{
 "cells": [
  {
   "cell_type": "markdown",
   "id": "b2765306",
   "metadata": {},
   "source": [
    "# annotate images for U-Net training"
   ]
  },
  {
   "cell_type": "code",
   "execution_count": 1,
   "id": "666f3981",
   "metadata": {},
   "outputs": [],
   "source": [
    "import os\n",
    "import numpy as np\n",
    "import napari"
   ]
  },
  {
   "cell_type": "code",
   "execution_count": 2,
   "id": "183737d0",
   "metadata": {},
   "outputs": [],
   "source": [
    "from skimage.io import imsave"
   ]
  },
  {
   "cell_type": "code",
   "execution_count": 3,
   "id": "1ae6b598",
   "metadata": {},
   "outputs": [],
   "source": [
    "PATH = \"/Users/arl/Downloads/images_to_annotate\"\n",
    "GT_PATH = os.path.join(PATH, \"GT\")"
   ]
  },
  {
   "cell_type": "code",
   "execution_count": 4,
   "id": "f1f0e5ba",
   "metadata": {},
   "outputs": [],
   "source": [
    "from daskoctopus import DaskOctopusLiteLoader"
   ]
  },
  {
   "cell_type": "code",
   "execution_count": 5,
   "id": "a3bbbd40",
   "metadata": {},
   "outputs": [
    {
     "name": "stdout",
     "output_type": "stream",
     "text": [
      "Using cropping: (1200, 1600)\n"
     ]
    }
   ],
   "source": [
    "reader = DaskOctopusLiteLoader(\n",
    "    PATH, \n",
    "    crop=(1200, 1600),\n",
    "    remove_background=True,\n",
    ")"
   ]
  },
  {
   "cell_type": "code",
   "execution_count": 6,
   "id": "b941974a",
   "metadata": {},
   "outputs": [],
   "source": [
    "brightfield = reader[\"brightfield\"]\n",
    "files = reader.files(\"brightfield\")"
   ]
  },
  {
   "cell_type": "code",
   "execution_count": 7,
   "id": "66d7b607",
   "metadata": {},
   "outputs": [],
   "source": [
    "viewer = napari.Viewer()\n",
    "viewer.add_image(brightfield)\n",
    "viewer.add_labels(np.zeros(brightfield.shape, dtype=np.uint64), name=\"ground_truth\")\n",
    "\n",
    "@viewer.bind_key('x')\n",
    "def save_ground_truth(viewer):\n",
    "\n",
    "    idx = viewer.dims.current_step[0]\n",
    "    _, raw_fn = os.path.split(files[idx])\n",
    "    fn = os.path.join(GT_PATH, f\"GT_{raw_fn}\")\n",
    "\n",
    "    if not os.path.exists(GT_PATH):\n",
    "        os.makedirs(GT_PATH)\n",
    "    \n",
    "    print(idx, fn)\n",
    "    gt = viewer.layers[\"ground_truth\"].data[idx, ...]\n",
    "    imsave(fn, gt.astype(np.uint8))"
   ]
  }
 ],
 "metadata": {
  "kernelspec": {
   "display_name": "Python [conda env:napari]",
   "language": "python",
   "name": "conda-env-napari-py"
  },
  "language_info": {
   "codemirror_mode": {
    "name": "ipython",
    "version": 3
   },
   "file_extension": ".py",
   "mimetype": "text/x-python",
   "name": "python",
   "nbconvert_exporter": "python",
   "pygments_lexer": "ipython3",
   "version": "3.9.4"
  }
 },
 "nbformat": 4,
 "nbformat_minor": 5
}
